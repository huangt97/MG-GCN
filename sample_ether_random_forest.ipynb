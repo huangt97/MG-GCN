{
 "cells": [
  {
   "cell_type": "code",
   "execution_count": 1,
   "metadata": {},
   "outputs": [
    {
     "name": "stdout",
     "output_type": "stream",
     "text": [
      "1.7.0\n",
      "True\n"
     ]
    }
   ],
   "source": [
    "import numpy as np\n",
    "import networkx as nx\n",
    "import random\n",
    "import torch\n",
    "from train import Train_Model\n",
    "#from tqdm import tqdm, trange\n",
    "from tqdm import tqdm_notebook as tqdm\n",
    "import gc\n",
    "from model import *\n",
    "from utils import *\n",
    "from sklearn.ensemble import *\n",
    "from sklearn.metrics import accuracy_score\n",
    "\n",
    "print(torch.__version__)\n",
    "print(torch.cuda.is_available())"
   ]
  },
  {
   "cell_type": "code",
   "execution_count": 2,
   "metadata": {},
   "outputs": [],
   "source": [
    "def pre_sample_for_ether(walk_times,adj_sparse, train_index, batch_size, save_name, do_walk, clf=None):\n",
    "    if do_walk:\n",
    "        nodes_num = len(train_index)\n",
    "        walks = torch.zeros(nodes_num, walk_times+1).long().cuda()\n",
    "        batches = create_batches_forList(train_index, batch_size, True)\n",
    "        i=0\n",
    "        degrees = torch.tensor(adj_sparse.sum(1)).view(-1).cuda()\n",
    "        candi_node = 0\n",
    "        indexes = np.arange(0, adj_sparse.shape[0])\n",
    "        for batch in batches:\n",
    "            walks[i*batch_size : i*batch_size + len(batch), 0] = torch.tensor(batch).cuda()\n",
    "            candi_node = sparse_mx_to_torch_sparse_tensor(adj_sparse[batch.cpu().numpy()]).cuda()\n",
    "            chosen_node = torch.zeros(len(batch), adj_sparse.shape[0]).cuda()\n",
    "            for id in range(len(batch)):\n",
    "                chosen_node[id][batch[id]] = 1.\n",
    "            candi_node = ((- chosen_node + candi_node)> 0.0).float()\n",
    "            for x in range(candi_node.shape[0]):\n",
    "                if candi_node[x].sum() < 0:\n",
    "                    print(\"x = {}\".format(x))\n",
    "                if candi_node[x].sum()==0:\n",
    "                    candi_node[x][batch[x]] = 1.\n",
    "                else:\n",
    "                    x_feat = features[batch[x]]\n",
    "                    p_x_feat = np.array([x_feat.cpu().numpy()])\n",
    "                    x_label = clf.predict(p_x_feat)[0]\n",
    "                    batch_x_list = np.array([batch[x]], dtype=np.int32)\n",
    "                    tmp_adj = adj_sparse[batch_x_list]\n",
    "                    tmp_adj = np.array(tmp_adj.toarray()[0], dtype=np.bool)\n",
    "                    tmp_adj = indexes[tmp_adj]\n",
    "                    for y in tmp_adj:\n",
    "                        y_feat = features[y]\n",
    "                        p_y_feat = np.array([y_feat.cpu().numpy()])\n",
    "                        y_label = clf.predict(p_y_feat)[0]\n",
    "                        if x_label == y_label:\n",
    "                            candi_node[x][y] = 1.\n",
    "                        else:\n",
    "                            candi_node[x][y] = 0.\n",
    "\n",
    "            for walk_id in range(walk_times):\n",
    "                p = candi_node\n",
    "                new_node = torch.multinomial(p,1).squeeze(1)\n",
    "                walks[i*batch_size : i*batch_size + len(batch), walk_id+1] = new_node\n",
    "                for id in range(len(batch)):\n",
    "                    chosen_node[id][new_node[id]] = 1.\n",
    "                candi_node = candi_node - chosen_node + sparse_mx_to_torch_sparse_tensor(adj_sparse[new_node.cpu()]).cuda()\n",
    "                candi_node = (candi_node> 0.0).float()\n",
    "\n",
    "            i+=1\n",
    "        torch.cuda.empty_cache()\n",
    "        result1 = np.array(walks.cpu())\n",
    "        io.savemat(save_name+'.mat',{save_name:result1})\n",
    "        return walks\n",
    "    else:\n",
    "        walks = io.loadmat(save_name+'.mat')\n",
    "        print(\"walks\",walks)\n",
    "        return torch.tensor(walks[save_name]).cuda()"
   ]
  },
  {
   "cell_type": "code",
   "execution_count": 3,
   "metadata": {},
   "outputs": [
    {
     "name": "stderr",
     "output_type": "stream",
     "text": [
      "/home/ubuntu/anaconda3/lib/python3.7/site-packages/scipy/sparse/_index.py:124: SparseEfficiencyWarning: Changing the sparsity structure of a csr_matrix is expensive. lil_matrix is more efficient.\n",
      "  self._set_arrayXarray(i, j, x)\n"
     ]
    }
   ],
   "source": [
    "os.environ[\"CUDA_VISIBLE_DEVICES\"] = \"2\"\n",
    "sparse_adj, sparse_adj_train,sparse_adj_train_all,features, train_feature,train_feature_all,labels, train_labels, id_train, id_valid, id_test, num_labels = Origin_load_ether_data()\n",
    "sparse_adj.setdiag(1.0) \n",
    "sparse_adj_train.setdiag(1.0) \n",
    "sparse_adj_train_all.setdiag(1.0)\n",
    "\n",
    "train_mask = np.array(np.zeros(features.shape[0]), dtype=np.bool)\n",
    "val_mask = np.array(np.zeros(features.shape[0]), dtype=np.bool)\n",
    "test_mask = np.array(np.zeros(features.shape[0]), dtype=np.bool)\n",
    "id_train = np.array(id_train)\n",
    "id_valid = np.array(id_valid)\n",
    "id_test = np.array(id_test)\n",
    "train_mask[id_train] = True\n",
    "val_mask[id_valid] = True\n",
    "test_mask[id_test] = True"
   ]
  },
  {
   "cell_type": "code",
   "execution_count": 4,
   "metadata": {},
   "outputs": [
    {
     "name": "stdout",
     "output_type": "stream",
     "text": [
      "RandomForest accuracy: 0.9629629629629629\n"
     ]
    }
   ],
   "source": [
    "feat = features.cpu().numpy()\n",
    "_labels = labels.cpu().numpy()\n",
    "X_train, X_val, X_test = feat[train_mask], feat[val_mask], feat[test_mask]\n",
    "y_train, y_val, y_test = _labels[train_mask], _labels[val_mask], _labels[test_mask]\n",
    "\n",
    "clf = RandomForestClassifier()\n",
    "clf.fit(X_train, y_train)\n",
    "acc = accuracy_score(y_test, clf.predict(X_test))\n",
    "print(\"RandomForest accuracy: {}\".format(acc))"
   ]
  },
  {
   "cell_type": "code",
   "execution_count": null,
   "metadata": {},
   "outputs": [
    {
     "name": "stdout",
     "output_type": "stream",
     "text": [
      "process...train_seed=10_walk=1\n"
     ]
    },
    {
     "name": "stderr",
     "output_type": "stream",
     "text": [
      "/home/ubuntu/anaconda3/lib/python3.7/site-packages/ipykernel_launcher.py:11: UserWarning: To copy construct from a tensor, it is recommended to use sourceTensor.clone().detach() or sourceTensor.clone().detach().requires_grad_(True), rather than torch.tensor(sourceTensor).\n",
      "  # This is added back by InteractiveShellApp.init_path()\n",
      "/home/ubuntu/anaconda3/lib/python3.7/site-packages/ipykernel_launcher.py:11: UserWarning: To copy construct from a tensor, it is recommended to use sourceTensor.clone().detach() or sourceTensor.clone().detach().requires_grad_(True), rather than torch.tensor(sourceTensor).\n",
      "  # This is added back by InteractiveShellApp.init_path()\n",
      "/home/ubuntu/anaconda3/lib/python3.7/site-packages/ipykernel_launcher.py:11: UserWarning: To copy construct from a tensor, it is recommended to use sourceTensor.clone().detach() or sourceTensor.clone().detach().requires_grad_(True), rather than torch.tensor(sourceTensor).\n",
      "  # This is added back by InteractiveShellApp.init_path()\n",
      "/home/ubuntu/anaconda3/lib/python3.7/site-packages/ipykernel_launcher.py:11: UserWarning: To copy construct from a tensor, it is recommended to use sourceTensor.clone().detach() or sourceTensor.clone().detach().requires_grad_(True), rather than torch.tensor(sourceTensor).\n",
      "  # This is added back by InteractiveShellApp.init_path()\n",
      "/home/ubuntu/anaconda3/lib/python3.7/site-packages/ipykernel_launcher.py:11: UserWarning: To copy construct from a tensor, it is recommended to use sourceTensor.clone().detach() or sourceTensor.clone().detach().requires_grad_(True), rather than torch.tensor(sourceTensor).\n",
      "  # This is added back by InteractiveShellApp.init_path()\n",
      "/home/ubuntu/anaconda3/lib/python3.7/site-packages/ipykernel_launcher.py:11: UserWarning: To copy construct from a tensor, it is recommended to use sourceTensor.clone().detach() or sourceTensor.clone().detach().requires_grad_(True), rather than torch.tensor(sourceTensor).\n",
      "  # This is added back by InteractiveShellApp.init_path()\n",
      "/home/ubuntu/anaconda3/lib/python3.7/site-packages/ipykernel_launcher.py:11: UserWarning: To copy construct from a tensor, it is recommended to use sourceTensor.clone().detach() or sourceTensor.clone().detach().requires_grad_(True), rather than torch.tensor(sourceTensor).\n",
      "  # This is added back by InteractiveShellApp.init_path()\n",
      "/home/ubuntu/anaconda3/lib/python3.7/site-packages/ipykernel_launcher.py:11: UserWarning: To copy construct from a tensor, it is recommended to use sourceTensor.clone().detach() or sourceTensor.clone().detach().requires_grad_(True), rather than torch.tensor(sourceTensor).\n",
      "  # This is added back by InteractiveShellApp.init_path()\n"
     ]
    }
   ],
   "source": [
    "for walk in range(1,20):\n",
    "    for seed in range(10,20):\n",
    "        torch.manual_seed(seed)\n",
    "        random.seed(seed)\n",
    "        torch.cuda.manual_seed(seed)\n",
    "        np.random.seed(seed)\n",
    "        save_name = 'seed='+str(seed)+'_walk='+str(walk)\n",
    "        print('process...'+'train_'+save_name)\n",
    "        pre_sample_for_ether(walk,sparse_adj_train_all, id_train, 32, './walks_ether_random_forest/train_'+save_name, True, clf)\n",
    "        print('process...'+'valid_'+save_name)\n",
    "        pre_sample_for_ether(walk,sparse_adj, id_valid, 32, './walks_ether_random_forest/valid_'+save_name, True, clf)\n",
    "        print('process...'+'test_'+save_name)\n",
    "        pre_sample_for_ether(walk,sparse_adj, id_test, 32, './walks_ether_random_forest/test_'+save_name, True, clf)"
   ]
  },
  {
   "cell_type": "code",
   "execution_count": null,
   "metadata": {},
   "outputs": [],
   "source": []
  }
 ],
 "metadata": {
  "kernelspec": {
   "display_name": "Python 3",
   "language": "python",
   "name": "python3"
  },
  "language_info": {
   "codemirror_mode": {
    "name": "ipython",
    "version": 3
   },
   "file_extension": ".py",
   "mimetype": "text/x-python",
   "name": "python",
   "nbconvert_exporter": "python",
   "pygments_lexer": "ipython3",
   "version": "3.7.6"
  }
 },
 "nbformat": 4,
 "nbformat_minor": 4
}
